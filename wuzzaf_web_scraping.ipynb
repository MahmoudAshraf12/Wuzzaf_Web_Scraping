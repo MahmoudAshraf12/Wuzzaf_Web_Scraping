{
 "cells": [
  {
   "cell_type": "markdown",
   "metadata": {},
   "source": [
    "# Wuzzuf_web_scraping"
   ]
  },
  {
   "cell_type": "code",
   "execution_count": 50,
   "metadata": {},
   "outputs": [],
   "source": [
    "import requests\n",
    "from bs4 import BeautifulSoup\n",
    "import csv\n",
    "from itertools import zip_longest"
   ]
  },
  {
   "cell_type": "code",
   "execution_count": 51,
   "metadata": {},
   "outputs": [],
   "source": [
    "# use request to fetch the url\n",
    "result = requests.get('https://wuzzuf.net/search/jobs/?q=python&a=hpb')"
   ]
  },
  {
   "cell_type": "code",
   "execution_count": 52,
   "metadata": {},
   "outputs": [],
   "source": [
    "# save page content\n",
    "src = result.content\n",
    "#print(src)"
   ]
  },
  {
   "cell_type": "code",
   "execution_count": 53,
   "metadata": {},
   "outputs": [],
   "source": [
    "soup = BeautifulSoup(src,'lxml')\n",
    "# print(soup)"
   ]
  },
  {
   "cell_type": "code",
   "execution_count": 54,
   "metadata": {},
   "outputs": [],
   "source": [
    "job_titles = soup.find_all('h2',{'class' : 'css-m604qf'})\n",
    "company_names = soup.find_all('a',{'class' : 'css-17s97q8'})\n",
    "locations_names = soup.find_all('span' , {'class' : 'css-5wys0k'})\n",
    "job_skills = soup.find_all('div' , {'class' : 'css-y4udm8'})"
   ]
  },
  {
   "cell_type": "code",
   "execution_count": 55,
   "metadata": {},
   "outputs": [],
   "source": [
    "job_title = []\n",
    "company_name = []\n",
    "locations_name = []\n",
    "job_skill = []\n",
    "links = []"
   ]
  },
  {
   "cell_type": "code",
   "execution_count": 56,
   "metadata": {},
   "outputs": [
    {
     "name": "stdout",
     "output_type": "stream",
     "text": [
      "['Python Or Electron Framework Developer (Knowledge Survivor - Desktop Application)', 'Senior Python Developer', 'Flask Python Developer', 'Senior Python Django Developer', 'Senior Python Backend Developer', 'Python Developer for Sports Statistics.', 'Senior / Mid Senior Python (Django) Developer', 'Senior Python Developer', 'Python Backend Developer', 'Senior Python Engineer', 'Python Developer', 'Senior Python / Django Developer', 'Senior Python Developer', 'Full Stack Developer', 'Solutions Engineer (Frontend, React)']\n"
     ]
    }
   ],
   "source": [
    "for i in range(len(job_titles)):\n",
    "    links.append('https://wuzzuf.net'+ job_titles[i].find('a').attrs['href'])\n",
    "    job_title.append(job_titles[i].text)\n",
    "    company_name.append(company_names[i].text)\n",
    "    locations_name.append(locations_names[i].text)\n",
    "    job_skill.append(job_skills[i].text)\n",
    "print(job_title)"
   ]
  },
  {
   "cell_type": "code",
   "execution_count": 58,
   "metadata": {},
   "outputs": [],
   "source": [
    "# create a csv file and fill it with values\n",
    "file_list = [job_title,company_name,locations_name,job_skill,links]\n",
    "exported = zip_longest(*file_list)\n",
    "\n",
    "with open('/Users/Lenovo/job_tests.csv' , 'w') as my_file:\n",
    "    wr = csv.writer(my_file)\n",
    "    wr.writerow(['job title' , 'company name' , 'location' , 'skills','links'])\n",
    "    wr.writerows(exported)"
   ]
  },
  {
   "cell_type": "code",
   "execution_count": null,
   "metadata": {},
   "outputs": [],
   "source": []
  }
 ],
 "metadata": {
  "kernelspec": {
   "display_name": "Python 3",
   "language": "python",
   "name": "python3"
  }
 },
 "nbformat": 4,
 "nbformat_minor": 4
}
